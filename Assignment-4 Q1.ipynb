{
 "cells": [
  {
   "cell_type": "code",
   "execution_count": 1,
   "id": "28363544-e110-4342-affd-0c087b426914",
   "metadata": {},
   "outputs": [],
   "source": [
    "# Q1. Create a vehicle class with an init method having instance variables as name_of_vehicle, max_speed and average_of_vehicle."
   ]
  },
  {
   "cell_type": "code",
   "execution_count": 4,
   "id": "ae436896-ba78-4754-a59b-11e5b9c3c7aa",
   "metadata": {},
   "outputs": [],
   "source": [
    "class vehicle:\n",
    "    \n",
    "    def __init__(self, name_of_vehicle, max_speed, average_of_vehicle):\n",
    "        self.name_of_vehicle = name_of_vehicle\n",
    "        self.max_speed = max_speed\n",
    "        self.average_of_vehicle = average_of_vehicle"
   ]
  },
  {
   "cell_type": "code",
   "execution_count": 5,
   "id": "d2c9a06e-3f21-4581-8eec-71ce9584719a",
   "metadata": {},
   "outputs": [],
   "source": [
    "vehicle1 = vehicle('Tata Nexon', 220, 25)"
   ]
  },
  {
   "cell_type": "code",
   "execution_count": 6,
   "id": "8d5633ff-93bf-498b-a120-77d7f6bf720d",
   "metadata": {},
   "outputs": [
    {
     "data": {
      "text/plain": [
       "25"
      ]
     },
     "execution_count": 6,
     "metadata": {},
     "output_type": "execute_result"
    }
   ],
   "source": [
    "vehicle1.average_of_vehicle"
   ]
  },
  {
   "cell_type": "code",
   "execution_count": 7,
   "id": "7a38ee9c-7e0d-4ebc-a37d-bf91ac8521af",
   "metadata": {},
   "outputs": [
    {
     "data": {
      "text/plain": [
       "220"
      ]
     },
     "execution_count": 7,
     "metadata": {},
     "output_type": "execute_result"
    }
   ],
   "source": [
    "vehicle1.max_speed"
   ]
  },
  {
   "cell_type": "code",
   "execution_count": 8,
   "id": "bbd5f1e7-a703-481c-ac08-f42491b52e5f",
   "metadata": {},
   "outputs": [
    {
     "data": {
      "text/plain": [
       "'Tata Nexon'"
      ]
     },
     "execution_count": 8,
     "metadata": {},
     "output_type": "execute_result"
    }
   ],
   "source": [
    "vehicle1.name_of_vehicle"
   ]
  }
 ],
 "metadata": {
  "kernelspec": {
   "display_name": "Python 3 (ipykernel)",
   "language": "python",
   "name": "python3"
  },
  "language_info": {
   "codemirror_mode": {
    "name": "ipython",
    "version": 3
   },
   "file_extension": ".py",
   "mimetype": "text/x-python",
   "name": "python",
   "nbconvert_exporter": "python",
   "pygments_lexer": "ipython3",
   "version": "3.10.8"
  }
 },
 "nbformat": 4,
 "nbformat_minor": 5
}
