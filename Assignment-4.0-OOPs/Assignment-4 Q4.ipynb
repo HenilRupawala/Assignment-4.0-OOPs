{
 "cells": [
  {
   "cell_type": "code",
   "execution_count": 2,
   "id": "8bf9c609-0e4b-4df3-9768-1856226b7c17",
   "metadata": {},
   "outputs": [],
   "source": [
    "# Q4. What are getter and setter in python? Create a class and create a getter and a setter method in this class."
   ]
  },
  {
   "cell_type": "markdown",
   "id": "7c2a0f9d-ec9f-48a2-94c0-8679aaf3ea17",
   "metadata": {},
   "source": [
    "There is some private/protected variable in our class and we don't want to give the direct access to the external user. So, we can create a method for the external user to get the access of the variable and also set the value according to user. Getter is used for get the data and Setter is use for set/change the data of the private/protected variables."
   ]
  },
  {
   "cell_type": "code",
   "execution_count": 18,
   "id": "3d5abaac-5fad-48f3-b856-0d2dc316c6f0",
   "metadata": {},
   "outputs": [],
   "source": [
    "class vehicle:\n",
    "    \n",
    "    def __init__(self, name_of_vehicle, max_speed, average_of_veh):\n",
    "        self.name_of_vehicle = name_of_vehicle\n",
    "        self.__max_speed = max_speed\n",
    "        self.average_of_veh = average_of_veh\n",
    "    \n",
    "    # using property decorators (getter function)\n",
    "    @property\n",
    "    def max_speed_access(self):\n",
    "        return self.__max_speed\n",
    "    \n",
    "    # setter function\n",
    "    @max_speed_access.setter\n",
    "    def max_speed_set(self, speed):\n",
    "        if speed<=180:\n",
    "            pass\n",
    "        else:\n",
    "            self.__max_speed = speed\n",
    "        "
   ]
  },
  {
   "cell_type": "code",
   "execution_count": 19,
   "id": "5625b752-1eb4-4563-992d-e4a178a96dd6",
   "metadata": {},
   "outputs": [],
   "source": [
    "car1 = vehicle('Tata Nexon', 220, 25)"
   ]
  },
  {
   "cell_type": "code",
   "execution_count": 25,
   "id": "28e79ae1-7f1e-4d7c-b85b-27b0df960c32",
   "metadata": {},
   "outputs": [
    {
     "data": {
      "text/plain": [
       "240"
      ]
     },
     "execution_count": 25,
     "metadata": {},
     "output_type": "execute_result"
    }
   ],
   "source": [
    "car1.max_speed_access #get"
   ]
  },
  {
   "cell_type": "code",
   "execution_count": 23,
   "id": "807ab4ad-d8cb-4be4-82ab-35ba894afbf9",
   "metadata": {},
   "outputs": [],
   "source": [
    "car1.max_speed_set = 240 #set"
   ]
  },
  {
   "cell_type": "code",
   "execution_count": 24,
   "id": "a2f0443e-4682-4528-a04b-9d59a183a572",
   "metadata": {},
   "outputs": [
    {
     "data": {
      "text/plain": [
       "240"
      ]
     },
     "execution_count": 24,
     "metadata": {},
     "output_type": "execute_result"
    }
   ],
   "source": [
    "car1.max_speed_access"
   ]
  }
 ],
 "metadata": {
  "kernelspec": {
   "display_name": "Python 3 (ipykernel)",
   "language": "python",
   "name": "python3"
  },
  "language_info": {
   "codemirror_mode": {
    "name": "ipython",
    "version": 3
   },
   "file_extension": ".py",
   "mimetype": "text/x-python",
   "name": "python",
   "nbconvert_exporter": "python",
   "pygments_lexer": "ipython3",
   "version": "3.10.8"
  }
 },
 "nbformat": 4,
 "nbformat_minor": 5
}
