{
 "cells": [
  {
   "cell_type": "markdown",
   "id": "17e1b126-4582-489c-802d-38b67b66ac33",
   "metadata": {},
   "source": [
    "Q2. Create a child class car from the vehicle class created in Que 1, which will inherit the vehicle class. Create a method named seating_capacity which takes capacity as an argument and returns the name of the vehicle and its seating capacity."
   ]
  },
  {
   "cell_type": "code",
   "execution_count": 1,
   "id": "89940ad6-9da6-472e-8efb-c936a04e12e8",
   "metadata": {},
   "outputs": [],
   "source": [
    "class vehicle:\n",
    "    \n",
    "    def __init__(self, name_of_vehicle, max_speed, average_of_veh):\n",
    "        self.name_of_vehicle = name_of_vehicle\n",
    "        self.max_speed = max_speed\n",
    "        self.average_of_veh = average_of_veh\n",
    "        \n",
    "class car(vehicle):\n",
    "    \n",
    "    def seating_capacity(self, capacity):\n",
    "        self.capacity = capacity\n",
    "        return f'Name of the car is \"{self.name_of_vehicle}\" and seating capacity is {self.capacity}'"
   ]
  },
  {
   "cell_type": "code",
   "execution_count": 2,
   "id": "9164b270-ef53-484f-aafa-7cddd2cf81d7",
   "metadata": {},
   "outputs": [],
   "source": [
    "car1 = car('Tata Nexon', 220, 25)"
   ]
  },
  {
   "cell_type": "code",
   "execution_count": 3,
   "id": "5797db4c-bf04-4f89-a4d4-a4f452efa166",
   "metadata": {},
   "outputs": [
    {
     "data": {
      "text/plain": [
       "'Name of the car is \"Tata Nexon\" and seating capacity is 5'"
      ]
     },
     "execution_count": 3,
     "metadata": {},
     "output_type": "execute_result"
    }
   ],
   "source": [
    "car1.seating_capacity(5)"
   ]
  }
 ],
 "metadata": {
  "kernelspec": {
   "display_name": "Python 3 (ipykernel)",
   "language": "python",
   "name": "python3"
  },
  "language_info": {
   "codemirror_mode": {
    "name": "ipython",
    "version": 3
   },
   "file_extension": ".py",
   "mimetype": "text/x-python",
   "name": "python",
   "nbconvert_exporter": "python",
   "pygments_lexer": "ipython3",
   "version": "3.10.8"
  }
 },
 "nbformat": 4,
 "nbformat_minor": 5
}
