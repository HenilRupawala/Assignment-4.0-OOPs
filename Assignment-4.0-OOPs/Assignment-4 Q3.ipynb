{
 "cells": [
  {
   "cell_type": "code",
   "execution_count": 1,
   "id": "8d02ec15-e9a8-4c8e-912e-db6b8ce17af2",
   "metadata": {},
   "outputs": [],
   "source": [
    "# Q3. What is multiple inheritance? Write a python code to demonstrate multiple inheritance."
   ]
  },
  {
   "cell_type": "markdown",
   "id": "5a54daa2-a992-4595-a49d-c1e7314ad1f3",
   "metadata": {},
   "source": [
    "When a class can be derived from more than one base class this type of inheritance is called multiple inheritances. In multiple inheritances, all the features of the base classes are inherited into the derived class.  "
   ]
  },
  {
   "cell_type": "code",
   "execution_count": 5,
   "id": "5b5617dd-2785-4168-8370-9f8b5650172d",
   "metadata": {},
   "outputs": [],
   "source": [
    "class Mother:\n",
    " \n",
    "    def mother(self, mothername):\n",
    "        self.mothername = mothername\n",
    " \n",
    " \n",
    "class Father:\n",
    " \n",
    "    def father(self, fathername):\n",
    "        self.fathername = fathername\n",
    " \n",
    " \n",
    "class Son(Mother, Father):\n",
    "    def parents(self):\n",
    "        print(\"Father name is :\", self.fathername)\n",
    "        print(\"Mother :\", self.mothername)"
   ]
  },
  {
   "cell_type": "code",
   "execution_count": 6,
   "id": "dd74aadc-6c66-4a6c-a05f-20e6fd39234b",
   "metadata": {},
   "outputs": [
    {
     "name": "stdout",
     "output_type": "stream",
     "text": [
      "Father name is : Harnil\n",
      "Mother : Fenal\n"
     ]
    }
   ],
   "source": [
    "s1 = Son()\n",
    "s1.fathername = \"Harnil\"\n",
    "s1.mothername = \"Fenal\"\n",
    "s1.parents()"
   ]
  }
 ],
 "metadata": {
  "kernelspec": {
   "display_name": "Python 3 (ipykernel)",
   "language": "python",
   "name": "python3"
  },
  "language_info": {
   "codemirror_mode": {
    "name": "ipython",
    "version": 3
   },
   "file_extension": ".py",
   "mimetype": "text/x-python",
   "name": "python",
   "nbconvert_exporter": "python",
   "pygments_lexer": "ipython3",
   "version": "3.10.8"
  }
 },
 "nbformat": 4,
 "nbformat_minor": 5
}
