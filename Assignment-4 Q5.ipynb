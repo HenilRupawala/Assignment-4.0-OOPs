{
 "cells": [
  {
   "cell_type": "code",
   "execution_count": null,
   "id": "c3bc8669-35a8-4a2e-94b0-5e138feaa48a",
   "metadata": {},
   "outputs": [],
   "source": [
    "# Q5.What is method overriding in python? Write a python code to demonstrate method overriding."
   ]
  },
  {
   "cell_type": "markdown",
   "id": "dd8a2484-9ebe-4e0b-be29-24a567d2aa5c",
   "metadata": {},
   "source": [
    "The overriding method allows a child class to provide a specific implementation of a method that is already provided by one of its parent classes."
   ]
  },
  {
   "cell_type": "code",
   "execution_count": 15,
   "id": "b4592c8e-68c1-4dbf-99bf-5fcef4b5af27",
   "metadata": {},
   "outputs": [],
   "source": [
    "class vehicle:\n",
    "    \n",
    "    def __init__(self, name_of_vehicle, max_speed, average_of_veh):\n",
    "        self.name_of_vehicle = name_of_vehicle\n",
    "        self.max_speed = max_speed\n",
    "        self.average_of_veh = average_of_veh\n",
    "        \n",
    "class car(vehicle):\n",
    "    \n",
    "    def __init__(self, name_of_vehicle):\n",
    "        self.name_of_vehicle = name_of_vehicle"
   ]
  },
  {
   "cell_type": "code",
   "execution_count": 18,
   "id": "56157a38-319c-4d60-aa99-3ac1d6550f4e",
   "metadata": {},
   "outputs": [],
   "source": [
    "car1 = vehicle(\"Tata Nexon\", 220, 25)"
   ]
  },
  {
   "cell_type": "code",
   "execution_count": 20,
   "id": "8de23ccd-02e3-473f-8a39-0f62890990b7",
   "metadata": {},
   "outputs": [],
   "source": [
    "car2 = car(\"Tata Harrier\")"
   ]
  },
  {
   "cell_type": "code",
   "execution_count": 23,
   "id": "b151e2b3-c03c-48db-9407-511b7ee9168b",
   "metadata": {},
   "outputs": [
    {
     "data": {
      "text/plain": [
       "'Tata Nexon'"
      ]
     },
     "execution_count": 23,
     "metadata": {},
     "output_type": "execute_result"
    }
   ],
   "source": [
    "car1.name_of_vehicle"
   ]
  },
  {
   "cell_type": "code",
   "execution_count": 24,
   "id": "a8cfb61f-c891-4973-aaf5-bee53c9931c3",
   "metadata": {},
   "outputs": [
    {
     "data": {
      "text/plain": [
       "'Tata Harrier'"
      ]
     },
     "execution_count": 24,
     "metadata": {},
     "output_type": "execute_result"
    }
   ],
   "source": [
    "car2.name_of_vehicle"
   ]
  },
  {
   "cell_type": "markdown",
   "id": "70b15351-1fc4-4947-a6e1-f92b89434a90",
   "metadata": {},
   "source": [
    "In above example, In the child class - car, we have overridden the method name_of_vehicle adding our own implementation.\n",
    "\n",
    "when we create an object of the car class and call the method name_of_vehicle we will see, it will override the already exsisting version of the parent class."
   ]
  }
 ],
 "metadata": {
  "kernelspec": {
   "display_name": "Python 3 (ipykernel)",
   "language": "python",
   "name": "python3"
  },
  "language_info": {
   "codemirror_mode": {
    "name": "ipython",
    "version": 3
   },
   "file_extension": ".py",
   "mimetype": "text/x-python",
   "name": "python",
   "nbconvert_exporter": "python",
   "pygments_lexer": "ipython3",
   "version": "3.10.8"
  }
 },
 "nbformat": 4,
 "nbformat_minor": 5
}
